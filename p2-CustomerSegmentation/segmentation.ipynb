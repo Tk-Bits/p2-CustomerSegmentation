{
 "cells": [
  {
   "cell_type": "markdown",
   "id": "7240db16",
   "metadata": {},
   "source": [
    "Customer Segmentation"
   ]
  },
  {
   "cell_type": "markdown",
   "id": "c084118f",
   "metadata": {},
   "source": [
    "1. Loading the DataSet"
   ]
  },
  {
   "cell_type": "code",
   "execution_count": null,
   "id": "4b9080e6",
   "metadata": {},
   "outputs": [],
   "source": [
    "import pandas as pd\n",
    "import numpy as np\n",
    "from sklearn.preprocessing import LabelEncoder\n",
    "import seaborn as sns\n",
    "import matplotlib.pyplot as plt\n",
    "\n",
    "df = pd.read_csv('/Users/thiru-14428/Documents/Personal/Tk/Bits/Git/p2-CustomerSegmentation/SuperMarket_Analysis.csv')\n",
    "df.head(),df.info(),df.describe()"
   ]
  },
  {
   "cell_type": "markdown",
   "id": "917e4d11",
   "metadata": {},
   "source": [
    "2. Inspecting the DataSet"
   ]
  },
  {
   "cell_type": "code",
   "execution_count": null,
   "id": "597482bc",
   "metadata": {},
   "outputs": [],
   "source": [
    "# Checking basic information about the dataset\n",
    "print(\"\\nData Information:\")\n",
    "print(df.info())\n",
    "\n",
    "# Summery statistics\n",
    "print(\"\\n Statistical Summary:\")\n",
    "print(df.describe())\n",
    "\n",
    "# Checking for missing values\n",
    "print(\"\\n Missing values\")\n",
    "print(df.isnull().sum())\n"
   ]
  },
  {
   "cell_type": "markdown",
   "id": "0472120f",
   "metadata": {},
   "source": [
    "3. Handling duplicates/missing value"
   ]
  },
  {
   "cell_type": "code",
   "execution_count": null,
   "id": "7e2b6704",
   "metadata": {},
   "outputs": [],
   "source": [
    "\n",
    "#Remove duplicates\n",
    "df = df.drop_duplicates()\n",
    "\n",
    "#Handling missing values\n",
    "\n",
    "# Prompt user for missing value handling choices\n",
    "print(\"Missing value handling options: drop / fill / skip\")\n",
    "action = input(\"Enter choice (drop/fill/skip): \").strip().lower()\n",
    "if action == 'drop':\n",
    "    df = df.dropna()\n",
    "elif action == 'fill':\n",
    "    missing_column = df.columns[df.isnull().any()]\n",
    "    misList  = list(missing_column)\n",
    "    for col in misList:\n",
    "        print(f\"Missing column {col} and data type is {df[col].dtype}\")  \n",
    "        fill_value = input(f\"Enter {col} value as {df[col].dtype} \").strip()\n",
    "        df[col] = df[col].fillna(fill_value)\n",
    "elif action == 'skip':\n",
    "    print(\"Skipping missing value handling.\")\n",
    "else:\n",
    "    print(\"Unrecognized choice; skipping.\")\n",
    "print(\"Missing value handling complete.\")\n",
    "\n",
    "print(\"\\nData after handling duplicate/missing values:\")\n",
    "print(df)"
   ]
  },
  {
   "cell_type": "markdown",
   "id": "a2267388",
   "metadata": {},
   "source": [
    "4. Encoding the Categorical column"
   ]
  },
  {
   "cell_type": "code",
   "execution_count": null,
   "id": "e643fe11",
   "metadata": {},
   "outputs": [],
   "source": [
    "# Two common encoding technique: Label Encoding and One-Hot Encoding\n",
    "\n",
    "\n",
    "#Label Encoding\n",
    "le = LabelEncoder()\n",
    "df['Gender'] = le.fit_transform(df['Gender']) # Best for two categories variable\n",
    "print(\"\\nData after encoding categorical columns:\")\n",
    "print(df)\n",
    "\n",
    "#One-Hot Encoding\n",
    "print(df.columns.tolist())\n",
    "df = pd.get_dummies(df, columns=['Product line'], drop_first=True) # Best for more than two categories variable\n",
    "print(\"\\nData after One-Hot encoding categorical columns:\")\n",
    "print(df)\n",
    "\n",
    "# Checking Missing values after encoding\n",
    "print(\"\\n Missing values after encoding\")\n",
    "print(df.isnull().sum())"
   ]
  },
  {
   "cell_type": "markdown",
   "id": "4db1a72c",
   "metadata": {},
   "source": [
    "5. Exploaratory Data Analysis (EDA)"
   ]
  },
  {
   "cell_type": "code",
   "execution_count": null,
   "id": "04d26e0c",
   "metadata": {},
   "outputs": [],
   "source": [
    "#fetching numeric columns\n",
    "numeric_cols = df.select_dtypes(include=[np.number]).columns.tolist()\n",
    "\n",
    "\n",
    "#Check correlations\n",
    "plt.figure(figsize=(12,8))\n",
    "sns.heatmap(df[numeric_cols].corr(), annot=True, cmap='coolwarm')\n",
    "plt.show()"
   ]
  }
 ],
 "metadata": {
  "kernelspec": {
   "display_name": "base",
   "language": "python",
   "name": "python3"
  },
  "language_info": {
   "codemirror_mode": {
    "name": "ipython",
    "version": 3
   },
   "file_extension": ".py",
   "mimetype": "text/x-python",
   "name": "python",
   "nbconvert_exporter": "python",
   "pygments_lexer": "ipython3",
   "version": "3.13.5"
  }
 },
 "nbformat": 4,
 "nbformat_minor": 5
}
